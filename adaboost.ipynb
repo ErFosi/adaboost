{
 "cells": [
  {
   "metadata": {},
   "cell_type": "markdown",
   "source": [
    "## AdaBoost\n",
    "### AdaBoost is a boosting algorithm which combines multiple weak classifiers to create a strong classifier. In this notebook, we will use AdaBoost to classify the quality of apples based on their features. Comparing this algorithm to other classification algorithms."
   ],
   "id": "8e013c3d9d14e4fc"
  },
  {
   "metadata": {},
   "cell_type": "markdown",
   "source": "## Reading the dataset",
   "id": "5c5ea2d2d0b0ba3b"
  },
  {
   "cell_type": "code",
   "id": "initial_id",
   "metadata": {
    "collapsed": true,
    "ExecuteTime": {
     "end_time": "2024-11-12T17:57:26.324314Z",
     "start_time": "2024-11-12T17:57:26.308160Z"
    }
   },
   "source": [
    "\n",
    "import pandas as pd\n",
    "\n",
    "\n",
    "data=pd.read_csv(\"./apple_quality.csv\")\n",
    "\n",
    "data.head()"
   ],
   "outputs": [
    {
     "data": {
      "text/plain": [
       "   A_id      Size    Weight  Sweetness  Crunchiness  Juiciness  Ripeness  \\\n",
       "0     0 -3.970049 -2.512336   5.346330    -1.012009   1.844900  0.329840   \n",
       "1     1 -1.195217 -2.839257   3.664059     1.588232   0.853286  0.867530   \n",
       "2     2 -0.292024 -1.351282  -1.738429    -0.342616   2.838636 -0.038033   \n",
       "3     3 -0.657196 -2.271627   1.324874    -0.097875   3.637970 -3.413761   \n",
       "4     4  1.364217 -1.296612  -0.384658    -0.553006   3.030874 -1.303849   \n",
       "\n",
       "    Acidity Quality  \n",
       "0 -0.491590    good  \n",
       "1 -0.722809    good  \n",
       "2  2.621636     bad  \n",
       "3  0.790723    good  \n",
       "4  0.501984    good  "
      ],
      "text/html": [
       "<div>\n",
       "<style scoped>\n",
       "    .dataframe tbody tr th:only-of-type {\n",
       "        vertical-align: middle;\n",
       "    }\n",
       "\n",
       "    .dataframe tbody tr th {\n",
       "        vertical-align: top;\n",
       "    }\n",
       "\n",
       "    .dataframe thead th {\n",
       "        text-align: right;\n",
       "    }\n",
       "</style>\n",
       "<table border=\"1\" class=\"dataframe\">\n",
       "  <thead>\n",
       "    <tr style=\"text-align: right;\">\n",
       "      <th></th>\n",
       "      <th>A_id</th>\n",
       "      <th>Size</th>\n",
       "      <th>Weight</th>\n",
       "      <th>Sweetness</th>\n",
       "      <th>Crunchiness</th>\n",
       "      <th>Juiciness</th>\n",
       "      <th>Ripeness</th>\n",
       "      <th>Acidity</th>\n",
       "      <th>Quality</th>\n",
       "    </tr>\n",
       "  </thead>\n",
       "  <tbody>\n",
       "    <tr>\n",
       "      <th>0</th>\n",
       "      <td>0</td>\n",
       "      <td>-3.970049</td>\n",
       "      <td>-2.512336</td>\n",
       "      <td>5.346330</td>\n",
       "      <td>-1.012009</td>\n",
       "      <td>1.844900</td>\n",
       "      <td>0.329840</td>\n",
       "      <td>-0.491590</td>\n",
       "      <td>good</td>\n",
       "    </tr>\n",
       "    <tr>\n",
       "      <th>1</th>\n",
       "      <td>1</td>\n",
       "      <td>-1.195217</td>\n",
       "      <td>-2.839257</td>\n",
       "      <td>3.664059</td>\n",
       "      <td>1.588232</td>\n",
       "      <td>0.853286</td>\n",
       "      <td>0.867530</td>\n",
       "      <td>-0.722809</td>\n",
       "      <td>good</td>\n",
       "    </tr>\n",
       "    <tr>\n",
       "      <th>2</th>\n",
       "      <td>2</td>\n",
       "      <td>-0.292024</td>\n",
       "      <td>-1.351282</td>\n",
       "      <td>-1.738429</td>\n",
       "      <td>-0.342616</td>\n",
       "      <td>2.838636</td>\n",
       "      <td>-0.038033</td>\n",
       "      <td>2.621636</td>\n",
       "      <td>bad</td>\n",
       "    </tr>\n",
       "    <tr>\n",
       "      <th>3</th>\n",
       "      <td>3</td>\n",
       "      <td>-0.657196</td>\n",
       "      <td>-2.271627</td>\n",
       "      <td>1.324874</td>\n",
       "      <td>-0.097875</td>\n",
       "      <td>3.637970</td>\n",
       "      <td>-3.413761</td>\n",
       "      <td>0.790723</td>\n",
       "      <td>good</td>\n",
       "    </tr>\n",
       "    <tr>\n",
       "      <th>4</th>\n",
       "      <td>4</td>\n",
       "      <td>1.364217</td>\n",
       "      <td>-1.296612</td>\n",
       "      <td>-0.384658</td>\n",
       "      <td>-0.553006</td>\n",
       "      <td>3.030874</td>\n",
       "      <td>-1.303849</td>\n",
       "      <td>0.501984</td>\n",
       "      <td>good</td>\n",
       "    </tr>\n",
       "  </tbody>\n",
       "</table>\n",
       "</div>"
      ]
     },
     "execution_count": 17,
     "metadata": {},
     "output_type": "execute_result"
    }
   ],
   "execution_count": 17
  },
  {
   "metadata": {
    "ExecuteTime": {
     "end_time": "2024-11-12T17:57:26.414143Z",
     "start_time": "2024-11-12T17:57:26.409299Z"
    }
   },
   "cell_type": "code",
   "source": "data.info()\n",
   "id": "747494c62c2f2d6c",
   "outputs": [
    {
     "name": "stdout",
     "output_type": "stream",
     "text": [
      "<class 'pandas.core.frame.DataFrame'>\n",
      "RangeIndex: 4000 entries, 0 to 3999\n",
      "Data columns (total 9 columns):\n",
      " #   Column       Non-Null Count  Dtype  \n",
      "---  ------       --------------  -----  \n",
      " 0   A_id         4000 non-null   int64  \n",
      " 1   Size         4000 non-null   float64\n",
      " 2   Weight       4000 non-null   float64\n",
      " 3   Sweetness    4000 non-null   float64\n",
      " 4   Crunchiness  4000 non-null   float64\n",
      " 5   Juiciness    4000 non-null   float64\n",
      " 6   Ripeness     4000 non-null   float64\n",
      " 7   Acidity      4000 non-null   float64\n",
      " 8   Quality      4000 non-null   object \n",
      "dtypes: float64(7), int64(1), object(1)\n",
      "memory usage: 281.4+ KB\n"
     ]
    }
   ],
   "execution_count": 18
  },
  {
   "metadata": {
    "ExecuteTime": {
     "end_time": "2024-11-12T17:57:26.448460Z",
     "start_time": "2024-11-12T17:57:26.444172Z"
    }
   },
   "cell_type": "code",
   "source": [
    "#Checking for missing values\n",
    "\n",
    "data.isnull().sum()"
   ],
   "id": "7bf4bb82313394c",
   "outputs": [
    {
     "data": {
      "text/plain": [
       "A_id           0\n",
       "Size           0\n",
       "Weight         0\n",
       "Sweetness      0\n",
       "Crunchiness    0\n",
       "Juiciness      0\n",
       "Ripeness       0\n",
       "Acidity        0\n",
       "Quality        0\n",
       "dtype: int64"
      ]
     },
     "execution_count": 19,
     "metadata": {},
     "output_type": "execute_result"
    }
   ],
   "execution_count": 19
  },
  {
   "metadata": {
    "ExecuteTime": {
     "end_time": "2024-11-12T17:57:26.553585Z",
     "start_time": "2024-11-12T17:57:26.548456Z"
    }
   },
   "cell_type": "code",
   "source": [
    "#Encode target variable\n",
    "from sklearn.preprocessing import LabelEncoder\n",
    "le=LabelEncoder()\n",
    "data['Quality']=le.fit_transform(data['Quality'])\n",
    "data.head()"
   ],
   "id": "7be8089315ac676f",
   "outputs": [
    {
     "data": {
      "text/plain": [
       "   A_id      Size    Weight  Sweetness  Crunchiness  Juiciness  Ripeness  \\\n",
       "0     0 -3.970049 -2.512336   5.346330    -1.012009   1.844900  0.329840   \n",
       "1     1 -1.195217 -2.839257   3.664059     1.588232   0.853286  0.867530   \n",
       "2     2 -0.292024 -1.351282  -1.738429    -0.342616   2.838636 -0.038033   \n",
       "3     3 -0.657196 -2.271627   1.324874    -0.097875   3.637970 -3.413761   \n",
       "4     4  1.364217 -1.296612  -0.384658    -0.553006   3.030874 -1.303849   \n",
       "\n",
       "    Acidity  Quality  \n",
       "0 -0.491590        1  \n",
       "1 -0.722809        1  \n",
       "2  2.621636        0  \n",
       "3  0.790723        1  \n",
       "4  0.501984        1  "
      ],
      "text/html": [
       "<div>\n",
       "<style scoped>\n",
       "    .dataframe tbody tr th:only-of-type {\n",
       "        vertical-align: middle;\n",
       "    }\n",
       "\n",
       "    .dataframe tbody tr th {\n",
       "        vertical-align: top;\n",
       "    }\n",
       "\n",
       "    .dataframe thead th {\n",
       "        text-align: right;\n",
       "    }\n",
       "</style>\n",
       "<table border=\"1\" class=\"dataframe\">\n",
       "  <thead>\n",
       "    <tr style=\"text-align: right;\">\n",
       "      <th></th>\n",
       "      <th>A_id</th>\n",
       "      <th>Size</th>\n",
       "      <th>Weight</th>\n",
       "      <th>Sweetness</th>\n",
       "      <th>Crunchiness</th>\n",
       "      <th>Juiciness</th>\n",
       "      <th>Ripeness</th>\n",
       "      <th>Acidity</th>\n",
       "      <th>Quality</th>\n",
       "    </tr>\n",
       "  </thead>\n",
       "  <tbody>\n",
       "    <tr>\n",
       "      <th>0</th>\n",
       "      <td>0</td>\n",
       "      <td>-3.970049</td>\n",
       "      <td>-2.512336</td>\n",
       "      <td>5.346330</td>\n",
       "      <td>-1.012009</td>\n",
       "      <td>1.844900</td>\n",
       "      <td>0.329840</td>\n",
       "      <td>-0.491590</td>\n",
       "      <td>1</td>\n",
       "    </tr>\n",
       "    <tr>\n",
       "      <th>1</th>\n",
       "      <td>1</td>\n",
       "      <td>-1.195217</td>\n",
       "      <td>-2.839257</td>\n",
       "      <td>3.664059</td>\n",
       "      <td>1.588232</td>\n",
       "      <td>0.853286</td>\n",
       "      <td>0.867530</td>\n",
       "      <td>-0.722809</td>\n",
       "      <td>1</td>\n",
       "    </tr>\n",
       "    <tr>\n",
       "      <th>2</th>\n",
       "      <td>2</td>\n",
       "      <td>-0.292024</td>\n",
       "      <td>-1.351282</td>\n",
       "      <td>-1.738429</td>\n",
       "      <td>-0.342616</td>\n",
       "      <td>2.838636</td>\n",
       "      <td>-0.038033</td>\n",
       "      <td>2.621636</td>\n",
       "      <td>0</td>\n",
       "    </tr>\n",
       "    <tr>\n",
       "      <th>3</th>\n",
       "      <td>3</td>\n",
       "      <td>-0.657196</td>\n",
       "      <td>-2.271627</td>\n",
       "      <td>1.324874</td>\n",
       "      <td>-0.097875</td>\n",
       "      <td>3.637970</td>\n",
       "      <td>-3.413761</td>\n",
       "      <td>0.790723</td>\n",
       "      <td>1</td>\n",
       "    </tr>\n",
       "    <tr>\n",
       "      <th>4</th>\n",
       "      <td>4</td>\n",
       "      <td>1.364217</td>\n",
       "      <td>-1.296612</td>\n",
       "      <td>-0.384658</td>\n",
       "      <td>-0.553006</td>\n",
       "      <td>3.030874</td>\n",
       "      <td>-1.303849</td>\n",
       "      <td>0.501984</td>\n",
       "      <td>1</td>\n",
       "    </tr>\n",
       "  </tbody>\n",
       "</table>\n",
       "</div>"
      ]
     },
     "execution_count": 20,
     "metadata": {},
     "output_type": "execute_result"
    }
   ],
   "execution_count": 20
  },
  {
   "metadata": {},
   "cell_type": "markdown",
   "source": [
    "## Preprocess\n",
    "### We will need to separate the features and the target variable. For this dataset more preprocessing is not required as all data is numericall, there are no missing values and the target variable is already encoded. We will remove the column A_id as it is does not provide any useful information."
   ],
   "id": "c895fa1a01a3061f"
  },
  {
   "metadata": {
    "ExecuteTime": {
     "end_time": "2024-11-12T17:57:26.665390Z",
     "start_time": "2024-11-12T17:57:26.660390Z"
    }
   },
   "cell_type": "code",
   "source": [
    "#Remove the A_id column\n",
    "data.drop('A_id',axis=1,inplace=True)\n",
    "\n",
    "#Separate the features and target variable\n",
    "X=data.drop('Quality',axis=1)\n",
    "y=data['Quality']\n",
    "\n",
    "#Split the data into training and testing sets\n",
    "from sklearn.model_selection import train_test_split\n",
    "X_train,X_test,y_train,y_test=train_test_split(X,y,test_size=0.2,random_state=42)"
   ],
   "id": "8f83b42820faa835",
   "outputs": [],
   "execution_count": 21
  },
  {
   "metadata": {},
   "cell_type": "markdown",
   "source": [
    "## AdaBoost \n",
    "### We will use the AdaBoostClassifier from the sklearn library to classify the quality of apples. We will use the default parameters for now."
   ],
   "id": "ae45528fd90bd8b5"
  },
  {
   "metadata": {
    "ExecuteTime": {
     "end_time": "2024-11-12T17:57:26.967478Z",
     "start_time": "2024-11-12T17:57:26.813334Z"
    }
   },
   "cell_type": "code",
   "source": [
    "#Use AdaBoost with the default parameters\n",
    "\n",
    "from sklearn.ensemble import AdaBoostClassifier\n",
    "from sklearn.metrics import f1_score,accuracy_score\n",
    "\n",
    "ada=AdaBoostClassifier()\n",
    "ada.fit(X_train,y_train)\n",
    "y_pred=ada.predict(X_test)\n",
    "\n",
    "print(\"F1 Score: \",f1_score(y_test,y_pred))\n",
    "print(\"Accuracy: \",accuracy_score(y_test,y_pred))"
   ],
   "id": "81998cf963d1f952",
   "outputs": [
    {
     "name": "stdout",
     "output_type": "stream",
     "text": [
      "F1 Score:  0.7727272727272727\n",
      "Accuracy:  0.775\n"
     ]
    },
    {
     "name": "stderr",
     "output_type": "stream",
     "text": [
      "C:\\Users\\alvar\\PycharmProjects\\pythonProject\\.venv\\Lib\\site-packages\\sklearn\\ensemble\\_weight_boosting.py:527: FutureWarning: The SAMME.R algorithm (the default) is deprecated and will be removed in 1.6. Use the SAMME algorithm to circumvent this warning.\n",
      "  warnings.warn(\n"
     ]
    }
   ],
   "execution_count": 22
  },
  {
   "metadata": {},
   "cell_type": "markdown",
   "source": "## Comparison with other default classifier",
   "id": "b535426a9eba8a47"
  },
  {
   "metadata": {
    "ExecuteTime": {
     "end_time": "2024-11-12T17:57:27.567870Z",
     "start_time": "2024-11-12T17:57:26.981989Z"
    }
   },
   "cell_type": "code",
   "source": [
    "from sklearn.ensemble import RandomForestClassifier\n",
    "from sklearn.svm import SVC\n",
    "\n",
    "rf=RandomForestClassifier()\n",
    "svc=SVC()\n",
    "\n",
    "rf.fit(X_train,y_train)\n",
    "svc.fit(X_train,y_train)\n",
    "\n",
    "y_pred_rf=rf.predict(X_test)\n",
    "y_pred_svc=svc.predict(X_test)\n",
    "\n",
    "print(\"Random Forest\")\n",
    "print(\"F1 Score: \",f1_score(y_test,y_pred_rf))\n",
    "\n",
    "print(\"SVC\")\n",
    "print(\"F1 Score: \",f1_score(y_test,y_pred_svc))\n",
    "\n"
   ],
   "id": "381f446b26f16a6d",
   "outputs": [
    {
     "name": "stdout",
     "output_type": "stream",
     "text": [
      "Random Forest\n",
      "F1 Score:  0.9027431421446384\n",
      "SVC\n",
      "F1 Score:  0.9077306733167082\n"
     ]
    }
   ],
   "execution_count": 23
  },
  {
   "metadata": {},
   "cell_type": "markdown",
   "source": [
    "### As we can see with default parameters AdaBoost performs worse than Random Forest and SVC. We can try to tune the parameters to improve the performance of AdaBoost. Therefore, we will now try to tune the parameters of AdaBoost to improve its performance.\n",
    "\n",
    "\n",
    "### We first tried with little estimators and performed worse than a default Random Forest"
   ],
   "id": "789742a0c7842eb"
  },
  {
   "metadata": {
    "ExecuteTime": {
     "end_time": "2024-11-12T17:57:28.027391Z",
     "start_time": "2024-11-12T17:57:27.593828Z"
    }
   },
   "cell_type": "code",
   "source": [
    "#Try adaboost with n estimators 2,4,10 and compare the best with random forest f1-score\n",
    "ada=AdaBoostClassifier(n_estimators=2)\n",
    "ada.fit(X_train,y_train)\n",
    "y_pred=ada.predict(X_test)\n",
    "\n",
    "print(\"AdaBoost with 2 estimators\")\n",
    "print(\"F1 Score: \",f1_score(y_test,y_pred))\n",
    "\n",
    "ada=AdaBoostClassifier(n_estimators=4)\n",
    "ada.fit(X_train,y_train)\n",
    "y_pred=ada.predict(X_test)\n",
    "\n",
    "print(\"AdaBoost with 4 estimators\")\n",
    "print(\"F1 Score: \",f1_score(y_test,y_pred))\n",
    "\n",
    "ada=AdaBoostClassifier(n_estimators=10)\n",
    "ada.fit(X_train,y_train)\n",
    "y_pred=ada.predict(X_test)\n",
    "\n",
    "print(\"AdaBoost with 10 estimators\")\n",
    "print(\"F1 Score: \",f1_score(y_test,y_pred))\n",
    "\n",
    "#Random Forest\n",
    "rf=RandomForestClassifier()\n",
    "rf.fit(X_train,y_train)\n",
    "y_pred=rf.predict(X_test)\n",
    "\n",
    "print(\"Random Forest\")\n",
    "print(\"F1 Score: \",f1_score(y_test,y_pred))\n"
   ],
   "id": "8ff680dfcc189656",
   "outputs": [
    {
     "name": "stdout",
     "output_type": "stream",
     "text": [
      "AdaBoost with 2 estimators\n",
      "F1 Score:  0.5639445300462249\n",
      "AdaBoost with 4 estimators\n",
      "F1 Score:  0.654891304347826\n",
      "AdaBoost with 10 estimators\n",
      "F1 Score:  0.7014341590612777\n"
     ]
    },
    {
     "name": "stderr",
     "output_type": "stream",
     "text": [
      "C:\\Users\\alvar\\PycharmProjects\\pythonProject\\.venv\\Lib\\site-packages\\sklearn\\ensemble\\_weight_boosting.py:527: FutureWarning: The SAMME.R algorithm (the default) is deprecated and will be removed in 1.6. Use the SAMME algorithm to circumvent this warning.\n",
      "  warnings.warn(\n",
      "C:\\Users\\alvar\\PycharmProjects\\pythonProject\\.venv\\Lib\\site-packages\\sklearn\\ensemble\\_weight_boosting.py:527: FutureWarning: The SAMME.R algorithm (the default) is deprecated and will be removed in 1.6. Use the SAMME algorithm to circumvent this warning.\n",
      "  warnings.warn(\n",
      "C:\\Users\\alvar\\PycharmProjects\\pythonProject\\.venv\\Lib\\site-packages\\sklearn\\ensemble\\_weight_boosting.py:527: FutureWarning: The SAMME.R algorithm (the default) is deprecated and will be removed in 1.6. Use the SAMME algorithm to circumvent this warning.\n",
      "  warnings.warn(\n"
     ]
    },
    {
     "name": "stdout",
     "output_type": "stream",
     "text": [
      "Random Forest\n",
      "F1 Score:  0.9022556390977443\n"
     ]
    }
   ],
   "execution_count": 24
  },
  {
   "metadata": {},
   "cell_type": "markdown",
   "source": "### We first tried with not too many estimators and saw that the performance wasn't as good as Random Forest. Later on we found out that normally AdaBoost uses 50 or even more estimators to perform well. We will now try to tune the hyperparameters of AdaBoost to see if we can improve its performance.",
   "id": "90948863f950f777"
  },
  {
   "metadata": {},
   "cell_type": "markdown",
   "source": [
    "## Hyperparameter tuning\n",
    "### Some of the parameters we can tune are:\n",
    "- n_estimators: The number of weak learners to train iteratively.\n",
    "- learning_rate: It contributes to the weights of weak learners. It uses 1 as a default value.\n",
    "- estimator: The base estimator from which the boosted ensemble is built. The default is a decision tree initialized with max_depth=1.\n",
    "- algorithm: The algorithm to use for the optimization. The posible values are 'SAMME' and 'SAMME.R', the difference is that 'SAMME.R' uses the predicted probabilities to update the additive model, while 'SAMME' uses the predicted class labels.\n",
    "- random_state: The seed used by the random number generator.\n",
    "\n",
    "### Something to take into consideration is the weak learner. By default, AdaBoost uses a decision tree with max_depth=1. We can try to use a different weak learner to see if it improves the performance of AdaBoost. All this parameters will be tuned using GridSearchCV."
   ],
   "id": "82eae66a6e4da1e1"
  },
  {
   "metadata": {
    "ExecuteTime": {
     "end_time": "2024-11-12T17:59:25.863188Z",
     "start_time": "2024-11-12T17:57:28.068367Z"
    }
   },
   "cell_type": "code",
   "source": [
    "#Now we will perform a grid search and we will store the acc and f1 score for each parameter combination to plot them later\n",
    "\n",
    "from sklearn.model_selection import GridSearchCV\n",
    "\n",
    "#Define the weak learners\n",
    "from sklearn.tree import DecisionTreeClassifier\n",
    "from sklearn.svm import SVC\n",
    "from sklearn.ensemble import RandomForestClassifier\n",
    "from sklearn.naive_bayes import GaussianNB\n",
    "\n",
    "# Define the weak learners\n",
    "# Define the weak learners\n",
    "dt = DecisionTreeClassifier(max_depth=3)\n",
    "svc = SVC(probability=True, kernel='linear')\n",
    "rf = RandomForestClassifier(n_estimators=1)\n",
    "nb=GaussianNB()\n",
    "\n",
    "# Define the parameters to tune for AdaBoost\n",
    "param_grid_ada = {\n",
    "    'n_estimators': [10,50,100,500],\n",
    "    'learning_rate': [ 0.1,0.2,0.3,1],\n",
    "    'estimator': [dt, rf],\n",
    "    'algorithm': [ 'SAMME'],\n",
    "    'random_state': [42]\n",
    "}\n",
    "\n",
    "\n",
    "\n",
    "# Use GridSearchCV to tune the parameters for AdaBoost\n",
    "ada = AdaBoostClassifier()\n",
    "grid_search_ada = GridSearchCV(ada, param_grid_ada, cv=5, scoring='f1')\n",
    "grid_search_ada.fit(X_train, y_train)\n",
    "print(\"AdaBoost completed\") \n",
    "# Store results for AdaBoost\n",
    "ada_best_params = grid_search_ada.best_params_\n",
    "ada_best_score = grid_search_ada.best_score_\n",
    "\n",
    "# Define the parameters to tune for Random Forest\n",
    "param_grid_rf = {\n",
    "    'n_estimators': [2,10,15,20,100,200],\n",
    "    'max_depth': [2, 3, 4, 5,10, None],\n",
    "    'random_state': [42]\n",
    "}\n",
    "\n",
    "# Use GridSearchCV to tune the parameters for Random Forest\n",
    "rf = RandomForestClassifier()\n",
    "grid_search_rf = GridSearchCV(rf, param_grid_rf, cv=5, scoring='f1')\n",
    "grid_search_rf.fit(X_train, y_train)\n",
    "\n",
    "# Store results for Random Forest\n",
    "rf_best_params = grid_search_rf.best_params_\n",
    "rf_best_score = grid_search_rf.best_score_\n",
    "\n",
    "# Define the parameters to tune for Naive Bayes\n",
    "param_grid_nb = {\n",
    "    'var_smoothing': [1e-9, 1e-8, 1e-6, 1e-5]\n",
    "}\n",
    "\n",
    "# Use GridSearchCV to tune the parameters for Naive Bayes\n",
    "nb = GaussianNB()\n",
    "grid_search_nb = GridSearchCV(nb, param_grid_nb, cv=5, scoring='f1')\n",
    "grid_search_nb.fit(X_train, y_train)\n",
    "\n",
    "\n",
    "nb_best_params = grid_search_nb.best_params_\n",
    "nb_best_score = grid_search_nb.best_score_\n",
    "\n",
    "\n",
    "summary_table = pd.DataFrame({\n",
    "    'Algorithm': ['AdaBoost', 'Random Forest', 'Naive Bayes'],\n",
    "    'Best Parameters': [ada_best_params, rf_best_params, nb_best_params],\n",
    "    'Best F1 Score': [ada_best_score, rf_best_score, nb_best_score]\n",
    "})\n",
    "\n",
    "print(\"Model Comparison Summary\")\n",
    "# Set display options\n",
    "pd.set_option('display.max_colwidth', None)  # Show full content in columns\n",
    "pd.set_option('display.max_columns', None)   # Show all columns\n",
    "\n",
    "# Display the DataFrame\n",
    "print(summary_table)"
   ],
   "id": "5d214801572ec787",
   "outputs": [
    {
     "name": "stdout",
     "output_type": "stream",
     "text": [
      "AdaBoost completed\n",
      "Model Comparison Summary\n",
      "       Algorithm  \\\n",
      "0       AdaBoost   \n",
      "1  Random Forest   \n",
      "2    Naive Bayes   \n",
      "\n",
      "                                                                                                                              Best Parameters  \\\n",
      "0  {'algorithm': 'SAMME', 'estimator': RandomForestClassifier(n_estimators=1), 'learning_rate': 0.2, 'n_estimators': 500, 'random_state': 42}   \n",
      "1                                                                                {'max_depth': None, 'n_estimators': 100, 'random_state': 42}   \n",
      "2                                                                                                                    {'var_smoothing': 1e-09}   \n",
      "\n",
      "   Best F1 Score  \n",
      "0       0.888471  \n",
      "1       0.877598  \n",
      "2       0.745947  \n"
     ]
    }
   ],
   "execution_count": 25
  },
  {
   "metadata": {},
   "cell_type": "markdown",
   "source": [
    "### As the previous dataset was too simple, a random forest classifier performed better than AdaBoost, the best AdaBoost hyperparameters was using 1 estimator with random forest. We will now use a more complex dataset to see if AdaBoost performs better than Random Forest and Naive Bayes. This dataset deals with a classification problem, where we will classify whether a client will subscribe to a term deposit or not. The dataset is the bank marketing dataset.\n",
    "\n",
    "\n",
    "# Bank marketing dataset\n",
    "## This dataset contains the following features:\n",
    "   ### bank client data:\n",
    "   - age (numeric)\n",
    "   - job : type of job (categorical: \"admin.\",\"unknown\",\"unemployed\",\"management\",\"housemaid\",\"entrepreneur\",\"student\",\n",
    "                                       \"blue-collar\",\"self-employed\",\"retired\",\"technician\",\"services\") \n",
    "   - marital : marital status (categorical: \"married\",\"divorced\",\"single\"; note: \"divorced\" means divorced or widowed)\n",
    "   - education (categorical: \"unknown\",\"secondary\",\"primary\",\"tertiary\")\n",
    "   - default: has credit in default? (binary: \"yes\",\"no\")\n",
    "   - balance: average yearly balance, in euros (numeric) \n",
    "   - housing: has housing loan? (binary: \"yes\",\"no\")\n",
    "   - loan: has personal loan? (binary: \"yes\",\"no\")\n",
    "   #### related with the last contact of the current campaign:\n",
    "   - contact: contact communication type (categorical: \"unknown\",\"telephone\",\"cellular\") \n",
    "   - day: last contact day of the month (numeric)\n",
    "   - month: last contact month of year (categorical: \"jan\", \"feb\", \"mar\", ..., \"nov\", \"dec\")\n",
    "   - duration: last contact duration, in seconds (numeric)\n",
    "   ### other attributes:\n",
    "   - campaign: number of contacts performed during this campaign and for this client (numeric, includes last contact)\n",
    "   - pdays: number of days that passed by after the client was last contacted from a previous campaign (numeric, -1 means client was not previously contacted)\n",
    "   - previous: number of contacts performed before this campaign and for this client (numeric)\n",
    "   - poutcome: outcome of the previous marketing campaign (categorical: \"unknown\",\"other\",\"failure\",\"success\")\n",
    "  \n",
    "## We will now read the dataset and preprocessthe features needed for the classification task.\n"
   ],
   "id": "7798b5129b063e5a"
  },
  {
   "metadata": {
    "ExecuteTime": {
     "end_time": "2024-11-12T17:59:25.948974Z",
     "start_time": "2024-11-12T17:59:25.889022Z"
    }
   },
   "cell_type": "code",
   "source": [
    "import pandas as pd\n",
    "#Read the dataset\n",
    "data=pd.read_csv(\"./bank-full.csv\", sep=\";\")\n",
    "\n",
    "data.head()\n",
    "\n"
   ],
   "id": "d7f3a80332162273",
   "outputs": [
    {
     "data": {
      "text/plain": [
       "   age           job  marital  education default  balance housing loan  \\\n",
       "0   58    management  married   tertiary      no     2143     yes   no   \n",
       "1   44    technician   single  secondary      no       29     yes   no   \n",
       "2   33  entrepreneur  married  secondary      no        2     yes  yes   \n",
       "3   47   blue-collar  married    unknown      no     1506     yes   no   \n",
       "4   33       unknown   single    unknown      no        1      no   no   \n",
       "\n",
       "   contact  day month  duration  campaign  pdays  previous poutcome   y  \n",
       "0  unknown    5   may       261         1     -1         0  unknown  no  \n",
       "1  unknown    5   may       151         1     -1         0  unknown  no  \n",
       "2  unknown    5   may        76         1     -1         0  unknown  no  \n",
       "3  unknown    5   may        92         1     -1         0  unknown  no  \n",
       "4  unknown    5   may       198         1     -1         0  unknown  no  "
      ],
      "text/html": [
       "<div>\n",
       "<style scoped>\n",
       "    .dataframe tbody tr th:only-of-type {\n",
       "        vertical-align: middle;\n",
       "    }\n",
       "\n",
       "    .dataframe tbody tr th {\n",
       "        vertical-align: top;\n",
       "    }\n",
       "\n",
       "    .dataframe thead th {\n",
       "        text-align: right;\n",
       "    }\n",
       "</style>\n",
       "<table border=\"1\" class=\"dataframe\">\n",
       "  <thead>\n",
       "    <tr style=\"text-align: right;\">\n",
       "      <th></th>\n",
       "      <th>age</th>\n",
       "      <th>job</th>\n",
       "      <th>marital</th>\n",
       "      <th>education</th>\n",
       "      <th>default</th>\n",
       "      <th>balance</th>\n",
       "      <th>housing</th>\n",
       "      <th>loan</th>\n",
       "      <th>contact</th>\n",
       "      <th>day</th>\n",
       "      <th>month</th>\n",
       "      <th>duration</th>\n",
       "      <th>campaign</th>\n",
       "      <th>pdays</th>\n",
       "      <th>previous</th>\n",
       "      <th>poutcome</th>\n",
       "      <th>y</th>\n",
       "    </tr>\n",
       "  </thead>\n",
       "  <tbody>\n",
       "    <tr>\n",
       "      <th>0</th>\n",
       "      <td>58</td>\n",
       "      <td>management</td>\n",
       "      <td>married</td>\n",
       "      <td>tertiary</td>\n",
       "      <td>no</td>\n",
       "      <td>2143</td>\n",
       "      <td>yes</td>\n",
       "      <td>no</td>\n",
       "      <td>unknown</td>\n",
       "      <td>5</td>\n",
       "      <td>may</td>\n",
       "      <td>261</td>\n",
       "      <td>1</td>\n",
       "      <td>-1</td>\n",
       "      <td>0</td>\n",
       "      <td>unknown</td>\n",
       "      <td>no</td>\n",
       "    </tr>\n",
       "    <tr>\n",
       "      <th>1</th>\n",
       "      <td>44</td>\n",
       "      <td>technician</td>\n",
       "      <td>single</td>\n",
       "      <td>secondary</td>\n",
       "      <td>no</td>\n",
       "      <td>29</td>\n",
       "      <td>yes</td>\n",
       "      <td>no</td>\n",
       "      <td>unknown</td>\n",
       "      <td>5</td>\n",
       "      <td>may</td>\n",
       "      <td>151</td>\n",
       "      <td>1</td>\n",
       "      <td>-1</td>\n",
       "      <td>0</td>\n",
       "      <td>unknown</td>\n",
       "      <td>no</td>\n",
       "    </tr>\n",
       "    <tr>\n",
       "      <th>2</th>\n",
       "      <td>33</td>\n",
       "      <td>entrepreneur</td>\n",
       "      <td>married</td>\n",
       "      <td>secondary</td>\n",
       "      <td>no</td>\n",
       "      <td>2</td>\n",
       "      <td>yes</td>\n",
       "      <td>yes</td>\n",
       "      <td>unknown</td>\n",
       "      <td>5</td>\n",
       "      <td>may</td>\n",
       "      <td>76</td>\n",
       "      <td>1</td>\n",
       "      <td>-1</td>\n",
       "      <td>0</td>\n",
       "      <td>unknown</td>\n",
       "      <td>no</td>\n",
       "    </tr>\n",
       "    <tr>\n",
       "      <th>3</th>\n",
       "      <td>47</td>\n",
       "      <td>blue-collar</td>\n",
       "      <td>married</td>\n",
       "      <td>unknown</td>\n",
       "      <td>no</td>\n",
       "      <td>1506</td>\n",
       "      <td>yes</td>\n",
       "      <td>no</td>\n",
       "      <td>unknown</td>\n",
       "      <td>5</td>\n",
       "      <td>may</td>\n",
       "      <td>92</td>\n",
       "      <td>1</td>\n",
       "      <td>-1</td>\n",
       "      <td>0</td>\n",
       "      <td>unknown</td>\n",
       "      <td>no</td>\n",
       "    </tr>\n",
       "    <tr>\n",
       "      <th>4</th>\n",
       "      <td>33</td>\n",
       "      <td>unknown</td>\n",
       "      <td>single</td>\n",
       "      <td>unknown</td>\n",
       "      <td>no</td>\n",
       "      <td>1</td>\n",
       "      <td>no</td>\n",
       "      <td>no</td>\n",
       "      <td>unknown</td>\n",
       "      <td>5</td>\n",
       "      <td>may</td>\n",
       "      <td>198</td>\n",
       "      <td>1</td>\n",
       "      <td>-1</td>\n",
       "      <td>0</td>\n",
       "      <td>unknown</td>\n",
       "      <td>no</td>\n",
       "    </tr>\n",
       "  </tbody>\n",
       "</table>\n",
       "</div>"
      ]
     },
     "execution_count": 26,
     "metadata": {},
     "output_type": "execute_result"
    }
   ],
   "execution_count": 26
  },
  {
   "metadata": {
    "ExecuteTime": {
     "end_time": "2024-11-12T17:59:26.012576Z",
     "start_time": "2024-11-12T17:59:25.995643Z"
    }
   },
   "cell_type": "code",
   "source": "data.info()",
   "id": "c38270583ff7f858",
   "outputs": [
    {
     "name": "stdout",
     "output_type": "stream",
     "text": [
      "<class 'pandas.core.frame.DataFrame'>\n",
      "RangeIndex: 45211 entries, 0 to 45210\n",
      "Data columns (total 17 columns):\n",
      " #   Column     Non-Null Count  Dtype \n",
      "---  ------     --------------  ----- \n",
      " 0   age        45211 non-null  int64 \n",
      " 1   job        45211 non-null  object\n",
      " 2   marital    45211 non-null  object\n",
      " 3   education  45211 non-null  object\n",
      " 4   default    45211 non-null  object\n",
      " 5   balance    45211 non-null  int64 \n",
      " 6   housing    45211 non-null  object\n",
      " 7   loan       45211 non-null  object\n",
      " 8   contact    45211 non-null  object\n",
      " 9   day        45211 non-null  int64 \n",
      " 10  month      45211 non-null  object\n",
      " 11  duration   45211 non-null  int64 \n",
      " 12  campaign   45211 non-null  int64 \n",
      " 13  pdays      45211 non-null  int64 \n",
      " 14  previous   45211 non-null  int64 \n",
      " 15  poutcome   45211 non-null  object\n",
      " 16  y          45211 non-null  object\n",
      "dtypes: int64(7), object(10)\n",
      "memory usage: 5.9+ MB\n"
     ]
    }
   ],
   "execution_count": 27
  },
  {
   "metadata": {
    "ExecuteTime": {
     "end_time": "2024-11-12T17:59:26.054578Z",
     "start_time": "2024-11-12T17:59:26.040766Z"
    }
   },
   "cell_type": "code",
   "source": [
    "#check for missing values\n",
    "\n",
    "data.isnull().sum()"
   ],
   "id": "e980e5e4c36a77d6",
   "outputs": [
    {
     "data": {
      "text/plain": [
       "age          0\n",
       "job          0\n",
       "marital      0\n",
       "education    0\n",
       "default      0\n",
       "balance      0\n",
       "housing      0\n",
       "loan         0\n",
       "contact      0\n",
       "day          0\n",
       "month        0\n",
       "duration     0\n",
       "campaign     0\n",
       "pdays        0\n",
       "previous     0\n",
       "poutcome     0\n",
       "y            0\n",
       "dtype: int64"
      ]
     },
     "execution_count": 28,
     "metadata": {},
     "output_type": "execute_result"
    }
   ],
   "execution_count": 28
  },
  {
   "metadata": {},
   "cell_type": "markdown",
   "source": "### We can see there are no missing values in the dataset and that many of the features are categorical. We will need to encode these features to be able to use them in the classification task. We will also encode the target variable.",
   "id": "af6a07ed6eb05e7b"
  },
  {
   "metadata": {},
   "cell_type": "markdown",
   "source": "",
   "id": "e255c6a30fac9a86"
  },
  {
   "metadata": {
    "ExecuteTime": {
     "end_time": "2024-11-12T17:59:26.173433Z",
     "start_time": "2024-11-12T17:59:26.098708Z"
    }
   },
   "cell_type": "code",
   "source": [
    "#Encode categorical features\n",
    "\n",
    "\n",
    "#get all object features one hot encoding to the columns \"job\", \"marital\" and \"contact\". Perform label encoding for the rest of the object features\n",
    "from sklearn.preprocessing import OneHotEncoder\n",
    "from sklearn.preprocessing import LabelEncoder\n",
    "\n",
    "#One hot encoding\n",
    "ohe=OneHotEncoder()\n",
    "job_marital_contact=ohe.fit_transform(data[['job','marital','contact']]).toarray()\n",
    "job_marital_contact=pd.DataFrame(job_marital_contact,columns=ohe.get_feature_names_out(['job', 'marital', 'contact']))\n",
    "\n",
    "#Label encoding\n",
    "le=LabelEncoder()\n",
    "data['education']=le.fit_transform(data['education'])\n",
    "data['default']=le.fit_transform(data['default'])\n",
    "data['housing']=le.fit_transform(data['housing'])\n",
    "data['loan']=le.fit_transform(data['loan'])\n",
    "\n",
    "\n",
    "\n",
    "#Concatenate the one hot encoded features with the label encoded features\n",
    "data=pd.concat([data,job_marital_contact],axis=1)\n",
    "\n",
    "#Drop the original columns\n",
    "data.drop(['job','marital','contact'],axis=1,inplace=True)\n",
    "\n",
    "#Encode the target variable\n",
    "data['y']=le.fit_transform(data['y'])\n",
    "\n",
    "#drop the column poutcome as this is the predictions (all are unknown)\n",
    "data.drop('poutcome',axis=1,inplace=True)\n",
    "\n",
    "#Month to numerical\n",
    "data['month']=le.fit_transform(data['month'])\n",
    "\n",
    "#Standarize balance\n",
    "from sklearn.preprocessing import StandardScaler\n",
    "scaler=StandardScaler()\n",
    "data['balance']=scaler.fit_transform(data[['balance']])\n",
    "\n",
    "data.head()\n"
   ],
   "id": "34031d53f032f8eb",
   "outputs": [
    {
     "data": {
      "text/plain": [
       "   age  education  default   balance  housing  loan  day  month  duration  \\\n",
       "0   58          2        0  0.256419        1     0    5      8       261   \n",
       "1   44          1        0 -0.437895        1     0    5      8       151   \n",
       "2   33          1        0 -0.446762        1     1    5      8        76   \n",
       "3   47          3        0  0.047205        1     0    5      8        92   \n",
       "4   33          3        0 -0.447091        0     0    5      8       198   \n",
       "\n",
       "   campaign  pdays  previous  y  job_admin.  job_blue-collar  \\\n",
       "0         1     -1         0  0         0.0              0.0   \n",
       "1         1     -1         0  0         0.0              0.0   \n",
       "2         1     -1         0  0         0.0              0.0   \n",
       "3         1     -1         0  0         0.0              1.0   \n",
       "4         1     -1         0  0         0.0              0.0   \n",
       "\n",
       "   job_entrepreneur  job_housemaid  job_management  job_retired  \\\n",
       "0               0.0            0.0             1.0          0.0   \n",
       "1               0.0            0.0             0.0          0.0   \n",
       "2               1.0            0.0             0.0          0.0   \n",
       "3               0.0            0.0             0.0          0.0   \n",
       "4               0.0            0.0             0.0          0.0   \n",
       "\n",
       "   job_self-employed  job_services  job_student  job_technician  \\\n",
       "0                0.0           0.0          0.0             0.0   \n",
       "1                0.0           0.0          0.0             1.0   \n",
       "2                0.0           0.0          0.0             0.0   \n",
       "3                0.0           0.0          0.0             0.0   \n",
       "4                0.0           0.0          0.0             0.0   \n",
       "\n",
       "   job_unemployed  job_unknown  marital_divorced  marital_married  \\\n",
       "0             0.0          0.0               0.0              1.0   \n",
       "1             0.0          0.0               0.0              0.0   \n",
       "2             0.0          0.0               0.0              1.0   \n",
       "3             0.0          0.0               0.0              1.0   \n",
       "4             0.0          1.0               0.0              0.0   \n",
       "\n",
       "   marital_single  contact_cellular  contact_telephone  contact_unknown  \n",
       "0             0.0               0.0                0.0              1.0  \n",
       "1             1.0               0.0                0.0              1.0  \n",
       "2             0.0               0.0                0.0              1.0  \n",
       "3             0.0               0.0                0.0              1.0  \n",
       "4             1.0               0.0                0.0              1.0  "
      ],
      "text/html": [
       "<div>\n",
       "<style scoped>\n",
       "    .dataframe tbody tr th:only-of-type {\n",
       "        vertical-align: middle;\n",
       "    }\n",
       "\n",
       "    .dataframe tbody tr th {\n",
       "        vertical-align: top;\n",
       "    }\n",
       "\n",
       "    .dataframe thead th {\n",
       "        text-align: right;\n",
       "    }\n",
       "</style>\n",
       "<table border=\"1\" class=\"dataframe\">\n",
       "  <thead>\n",
       "    <tr style=\"text-align: right;\">\n",
       "      <th></th>\n",
       "      <th>age</th>\n",
       "      <th>education</th>\n",
       "      <th>default</th>\n",
       "      <th>balance</th>\n",
       "      <th>housing</th>\n",
       "      <th>loan</th>\n",
       "      <th>day</th>\n",
       "      <th>month</th>\n",
       "      <th>duration</th>\n",
       "      <th>campaign</th>\n",
       "      <th>pdays</th>\n",
       "      <th>previous</th>\n",
       "      <th>y</th>\n",
       "      <th>job_admin.</th>\n",
       "      <th>job_blue-collar</th>\n",
       "      <th>job_entrepreneur</th>\n",
       "      <th>job_housemaid</th>\n",
       "      <th>job_management</th>\n",
       "      <th>job_retired</th>\n",
       "      <th>job_self-employed</th>\n",
       "      <th>job_services</th>\n",
       "      <th>job_student</th>\n",
       "      <th>job_technician</th>\n",
       "      <th>job_unemployed</th>\n",
       "      <th>job_unknown</th>\n",
       "      <th>marital_divorced</th>\n",
       "      <th>marital_married</th>\n",
       "      <th>marital_single</th>\n",
       "      <th>contact_cellular</th>\n",
       "      <th>contact_telephone</th>\n",
       "      <th>contact_unknown</th>\n",
       "    </tr>\n",
       "  </thead>\n",
       "  <tbody>\n",
       "    <tr>\n",
       "      <th>0</th>\n",
       "      <td>58</td>\n",
       "      <td>2</td>\n",
       "      <td>0</td>\n",
       "      <td>0.256419</td>\n",
       "      <td>1</td>\n",
       "      <td>0</td>\n",
       "      <td>5</td>\n",
       "      <td>8</td>\n",
       "      <td>261</td>\n",
       "      <td>1</td>\n",
       "      <td>-1</td>\n",
       "      <td>0</td>\n",
       "      <td>0</td>\n",
       "      <td>0.0</td>\n",
       "      <td>0.0</td>\n",
       "      <td>0.0</td>\n",
       "      <td>0.0</td>\n",
       "      <td>1.0</td>\n",
       "      <td>0.0</td>\n",
       "      <td>0.0</td>\n",
       "      <td>0.0</td>\n",
       "      <td>0.0</td>\n",
       "      <td>0.0</td>\n",
       "      <td>0.0</td>\n",
       "      <td>0.0</td>\n",
       "      <td>0.0</td>\n",
       "      <td>1.0</td>\n",
       "      <td>0.0</td>\n",
       "      <td>0.0</td>\n",
       "      <td>0.0</td>\n",
       "      <td>1.0</td>\n",
       "    </tr>\n",
       "    <tr>\n",
       "      <th>1</th>\n",
       "      <td>44</td>\n",
       "      <td>1</td>\n",
       "      <td>0</td>\n",
       "      <td>-0.437895</td>\n",
       "      <td>1</td>\n",
       "      <td>0</td>\n",
       "      <td>5</td>\n",
       "      <td>8</td>\n",
       "      <td>151</td>\n",
       "      <td>1</td>\n",
       "      <td>-1</td>\n",
       "      <td>0</td>\n",
       "      <td>0</td>\n",
       "      <td>0.0</td>\n",
       "      <td>0.0</td>\n",
       "      <td>0.0</td>\n",
       "      <td>0.0</td>\n",
       "      <td>0.0</td>\n",
       "      <td>0.0</td>\n",
       "      <td>0.0</td>\n",
       "      <td>0.0</td>\n",
       "      <td>0.0</td>\n",
       "      <td>1.0</td>\n",
       "      <td>0.0</td>\n",
       "      <td>0.0</td>\n",
       "      <td>0.0</td>\n",
       "      <td>0.0</td>\n",
       "      <td>1.0</td>\n",
       "      <td>0.0</td>\n",
       "      <td>0.0</td>\n",
       "      <td>1.0</td>\n",
       "    </tr>\n",
       "    <tr>\n",
       "      <th>2</th>\n",
       "      <td>33</td>\n",
       "      <td>1</td>\n",
       "      <td>0</td>\n",
       "      <td>-0.446762</td>\n",
       "      <td>1</td>\n",
       "      <td>1</td>\n",
       "      <td>5</td>\n",
       "      <td>8</td>\n",
       "      <td>76</td>\n",
       "      <td>1</td>\n",
       "      <td>-1</td>\n",
       "      <td>0</td>\n",
       "      <td>0</td>\n",
       "      <td>0.0</td>\n",
       "      <td>0.0</td>\n",
       "      <td>1.0</td>\n",
       "      <td>0.0</td>\n",
       "      <td>0.0</td>\n",
       "      <td>0.0</td>\n",
       "      <td>0.0</td>\n",
       "      <td>0.0</td>\n",
       "      <td>0.0</td>\n",
       "      <td>0.0</td>\n",
       "      <td>0.0</td>\n",
       "      <td>0.0</td>\n",
       "      <td>0.0</td>\n",
       "      <td>1.0</td>\n",
       "      <td>0.0</td>\n",
       "      <td>0.0</td>\n",
       "      <td>0.0</td>\n",
       "      <td>1.0</td>\n",
       "    </tr>\n",
       "    <tr>\n",
       "      <th>3</th>\n",
       "      <td>47</td>\n",
       "      <td>3</td>\n",
       "      <td>0</td>\n",
       "      <td>0.047205</td>\n",
       "      <td>1</td>\n",
       "      <td>0</td>\n",
       "      <td>5</td>\n",
       "      <td>8</td>\n",
       "      <td>92</td>\n",
       "      <td>1</td>\n",
       "      <td>-1</td>\n",
       "      <td>0</td>\n",
       "      <td>0</td>\n",
       "      <td>0.0</td>\n",
       "      <td>1.0</td>\n",
       "      <td>0.0</td>\n",
       "      <td>0.0</td>\n",
       "      <td>0.0</td>\n",
       "      <td>0.0</td>\n",
       "      <td>0.0</td>\n",
       "      <td>0.0</td>\n",
       "      <td>0.0</td>\n",
       "      <td>0.0</td>\n",
       "      <td>0.0</td>\n",
       "      <td>0.0</td>\n",
       "      <td>0.0</td>\n",
       "      <td>1.0</td>\n",
       "      <td>0.0</td>\n",
       "      <td>0.0</td>\n",
       "      <td>0.0</td>\n",
       "      <td>1.0</td>\n",
       "    </tr>\n",
       "    <tr>\n",
       "      <th>4</th>\n",
       "      <td>33</td>\n",
       "      <td>3</td>\n",
       "      <td>0</td>\n",
       "      <td>-0.447091</td>\n",
       "      <td>0</td>\n",
       "      <td>0</td>\n",
       "      <td>5</td>\n",
       "      <td>8</td>\n",
       "      <td>198</td>\n",
       "      <td>1</td>\n",
       "      <td>-1</td>\n",
       "      <td>0</td>\n",
       "      <td>0</td>\n",
       "      <td>0.0</td>\n",
       "      <td>0.0</td>\n",
       "      <td>0.0</td>\n",
       "      <td>0.0</td>\n",
       "      <td>0.0</td>\n",
       "      <td>0.0</td>\n",
       "      <td>0.0</td>\n",
       "      <td>0.0</td>\n",
       "      <td>0.0</td>\n",
       "      <td>0.0</td>\n",
       "      <td>0.0</td>\n",
       "      <td>1.0</td>\n",
       "      <td>0.0</td>\n",
       "      <td>0.0</td>\n",
       "      <td>1.0</td>\n",
       "      <td>0.0</td>\n",
       "      <td>0.0</td>\n",
       "      <td>1.0</td>\n",
       "    </tr>\n",
       "  </tbody>\n",
       "</table>\n",
       "</div>"
      ]
     },
     "execution_count": 29,
     "metadata": {},
     "output_type": "execute_result"
    }
   ],
   "execution_count": 29
  },
  {
   "metadata": {},
   "cell_type": "markdown",
   "source": "### With the preprocessing done, we will now separate the features and the target variable. We will also split the data into training and testing sets.",
   "id": "2d43c1ea8eb0ae29"
  },
  {
   "metadata": {
    "ExecuteTime": {
     "end_time": "2024-11-12T17:59:26.230322Z",
     "start_time": "2024-11-12T17:59:26.214358Z"
    }
   },
   "cell_type": "code",
   "source": [
    "# Now that we have done the preprocessing, we will separate the features and the target variable. We will also split the data into training and testing sets.\n",
    "from sklearn.model_selection import train_test_split\n",
    "X=data.drop('y',axis=1)\n",
    "y=data['y']\n",
    "\n",
    "X_train,X_test,y_train,y_test=train_test_split(X,y,test_size=0.2,random_state=42)\n",
    "\n"
   ],
   "id": "f7cca4efb9c4dd1b",
   "outputs": [],
   "execution_count": 30
  },
  {
   "metadata": {
    "ExecuteTime": {
     "end_time": "2024-11-12T17:59:30.002681Z",
     "start_time": "2024-11-12T17:59:26.264136Z"
    }
   },
   "cell_type": "code",
   "source": [
    "# Now we will perform a simple comparison between base random forest, naive bayes and adaboost classifiers\n",
    "import numpy as np\n",
    "from sklearn.ensemble import RandomForestClassifier\n",
    "from sklearn.naive_bayes import GaussianNB\n",
    "from sklearn.ensemble import AdaBoostClassifier\n",
    "from sklearn.metrics import f1_score,accuracy_score\n",
    "from sklearn.svm import SVC\n",
    "\n",
    "\n",
    "rf=RandomForestClassifier()\n",
    "nb=GaussianNB()\n",
    "ada=AdaBoostClassifier()\n",
    "\n",
    "rf.fit(X_train,y_train)\n",
    "nb.fit(X_train,y_train)\n",
    "ada.fit(X_train,y_train)\n",
    "\n",
    "y_pred_rf=rf.predict(X_test)\n",
    "y_pred_nb=nb.predict(X_test)\n",
    "y_pred_ada=ada.predict(X_test)\n",
    "\n",
    "#compare f1-score and accuracy\n",
    "print(\"Random Forest\")\n",
    "print(\"F1 Score: \",f1_score(y_test,y_pred_rf))\n",
    "print(\"Accuracy: \",accuracy_score(y_test,y_pred_rf))\n",
    "\n",
    "print(\"Naive Bayes\")\n",
    "print(\"F1 Score: \",f1_score(y_test,y_pred_nb))\n",
    "print(\"Accuracy: \",accuracy_score(y_test,y_pred_nb))\n",
    "\n",
    "print(\"AdaBoost\")\n",
    "print(\"F1 Score: \",f1_score(y_test,y_pred_ada))\n",
    "print(\"Accuracy: \",accuracy_score(y_test,y_pred_ada))"
   ],
   "id": "9b2cfb50c2382af1",
   "outputs": [
    {
     "name": "stderr",
     "output_type": "stream",
     "text": [
      "C:\\Users\\alvar\\PycharmProjects\\pythonProject\\.venv\\Lib\\site-packages\\sklearn\\ensemble\\_weight_boosting.py:527: FutureWarning: The SAMME.R algorithm (the default) is deprecated and will be removed in 1.6. Use the SAMME algorithm to circumvent this warning.\n",
      "  warnings.warn(\n"
     ]
    },
    {
     "name": "stdout",
     "output_type": "stream",
     "text": [
      "Random Forest\n",
      "F1 Score:  0.47368421052631576\n",
      "Accuracy:  0.8982638504920933\n",
      "Naive Bayes\n",
      "F1 Score:  0.4113785557986871\n",
      "Accuracy:  0.8215194072763463\n",
      "AdaBoost\n",
      "F1 Score:  0.42473745624270715\n",
      "Accuracy:  0.8909653875926131\n"
     ]
    }
   ],
   "execution_count": 31
  },
  {
   "metadata": {},
   "cell_type": "markdown",
   "source": "### We can see that Random Forest performs better than AdaBoost and Naive Bayes with base params. We will now tune the hyperparameters of AdaBoost to see if we can improve its performance.",
   "id": "95e36afa707298b2"
  },
  {
   "metadata": {
    "ExecuteTime": {
     "end_time": "2024-11-12T19:20:09.396766Z",
     "start_time": "2024-11-12T17:59:30.008686Z"
    }
   },
   "cell_type": "code",
   "source": [
    "import pandas as pd\n",
    "import time\n",
    "from sklearn.tree import DecisionTreeClassifier\n",
    "from sklearn.svm import SVC\n",
    "from sklearn.ensemble import RandomForestClassifier, AdaBoostClassifier\n",
    "from sklearn.naive_bayes import GaussianNB\n",
    "from sklearn.model_selection import GridSearchCV\n",
    "from sklearn.metrics import f1_score\n",
    "\n",
    "# Define weak learners\n",
    "dt = DecisionTreeClassifier(max_depth=3)\n",
    "dt2 = DecisionTreeClassifier(max_depth=2)\n",
    "dt3 = DecisionTreeClassifier(max_depth=4)\n",
    "\n",
    "svc = SVC(probability=True, kernel='linear')\n",
    "rf = RandomForestClassifier(n_estimators=1, max_depth=1)\n",
    "rf2 = RandomForestClassifier(n_estimators=2, max_depth=2)\n",
    "rf3 = RandomForestClassifier(n_estimators=4, max_depth=4)\n",
    "nb = GaussianNB()\n",
    "\n",
    "# Define the parameter grid for AdaBoost\n",
    "param_grid_ada = {\n",
    "    'n_estimators': [250, 500, 1000],\n",
    "    'learning_rate': [0.05, 0.1, 0.5, 1.0],\n",
    "    'estimator': [dt, dt2, dt3, rf, rf2, rf3, nb],\n",
    "    'algorithm': ['SAMME'],\n",
    "    'random_state': [42]\n",
    "}\n",
    "\n",
    "# Timing and grid search for AdaBoost\n",
    "start_time = time.time()\n",
    "ada = AdaBoostClassifier()\n",
    "grid_search_ada = GridSearchCV(ada, param_grid_ada, cv=5, scoring='f1', verbose=1)\n",
    "grid_search_ada.fit(X_train, y_train)\n",
    "end_time = time.time()\n",
    "ada_time_grid = end_time - start_time\n",
    "print(\"AdaBoost completed\")\n",
    "\n",
    "# Store results for AdaBoost\n",
    "ada_best_params = grid_search_ada.best_params_\n",
    "ada_best_score = grid_search_ada.best_score_\n",
    "\n",
    "# Define the parameter grid for Random Forest\n",
    "param_grid_rf = {\n",
    "    'n_estimators': [2, 10, 15, 20, 100, 200],\n",
    "    'max_depth': [2, 3, 4, 5, 10, None],\n",
    "    'random_state': [42]\n",
    "}\n",
    "\n",
    "# Timing and grid search for Random Forest\n",
    "start_time = time.time()\n",
    "rf = RandomForestClassifier()\n",
    "grid_search_rf = GridSearchCV(rf, param_grid_rf, cv=5, scoring='f1')\n",
    "grid_search_rf.fit(X_train, y_train)\n",
    "end_time = time.time()\n",
    "rf_time_grid = end_time - start_time\n",
    "\n",
    "# Store results for Random Forest\n",
    "rf_best_params = grid_search_rf.best_params_\n",
    "rf_best_score = grid_search_rf.best_score_\n",
    "\n",
    "# Define the parameter grid for Naive Bayes\n",
    "param_grid_nb = {\n",
    "    'var_smoothing': [1e-9, 1e-8, 1e-6, 1e-5]\n",
    "}\n",
    "\n",
    "# Timing and grid search for Naive Bayes\n",
    "start_time = time.time()\n",
    "nb = GaussianNB()\n",
    "grid_search_nb = GridSearchCV(nb, param_grid_nb, cv=5, scoring='f1')\n",
    "grid_search_nb.fit(X_train, y_train)\n",
    "end_time = time.time()\n",
    "nb_time_grid = end_time - start_time\n",
    "\n",
    "# Store results for Naive Bayes\n",
    "nb_best_params = grid_search_nb.best_params_\n",
    "nb_best_score = grid_search_nb.best_score_\n",
    "\n",
    "# Create a summary table including the time taken\n",
    "summary_table = pd.DataFrame({\n",
    "    'Algorithm': ['AdaBoost', 'Random Forest', 'Naive Bayes'],\n",
    "    'Best Parameters': [ada_best_params, rf_best_params, nb_best_params],\n",
    "    'Best F1 Score': [ada_best_score, rf_best_score, nb_best_score],\n",
    "    'Grid Search Time (seconds)': [ada_time_grid, rf_time_grid, nb_time_grid]\n",
    "})\n",
    "\n",
    "print(\"Model Comparison Summary\")\n",
    "# Display the summary table\n",
    "pd.set_option('display.max_colwidth', None)\n",
    "pd.set_option('display.max_columns', None)\n",
    "\n",
    "print(summary_table)\n"
   ],
   "id": "5998e5c71f7e94a7",
   "outputs": [
    {
     "name": "stdout",
     "output_type": "stream",
     "text": [
      "Fitting 5 folds for each of 84 candidates, totalling 420 fits\n",
      "AdaBoost completed\n",
      "Model Comparison Summary\n",
      "       Algorithm  \\\n",
      "0       AdaBoost   \n",
      "1  Random Forest   \n",
      "2    Naive Bayes   \n",
      "\n",
      "                                                                                                                                           Best Parameters  \\\n",
      "0  {'algorithm': 'SAMME', 'estimator': RandomForestClassifier(max_depth=4, n_estimators=4), 'learning_rate': 0.5, 'n_estimators': 500, 'random_state': 42}   \n",
      "1                                                                                             {'max_depth': None, 'n_estimators': 200, 'random_state': 42}   \n",
      "2                                                                                                                                 {'var_smoothing': 1e-06}   \n",
      "\n",
      "   Best F1 Score  Grid Search Time (seconds)  \n",
      "0       0.522249                 4688.212974  \n",
      "1       0.454046                  150.663964  \n",
      "2       0.440348                    0.498645  \n"
     ]
    }
   ],
   "execution_count": 32
  },
  {
   "metadata": {},
   "cell_type": "markdown",
   "source": "###  Now we will plot the f1 score and accuracy and the ROC curves of the best models",
   "id": "20490f079b2ccbd6"
  },
  {
   "metadata": {
    "ExecuteTime": {
     "end_time": "2024-11-12T19:20:11.501757Z",
     "start_time": "2024-11-12T19:20:09.545023Z"
    }
   },
   "cell_type": "code",
   "source": [
    "from sklearn.metrics import roc_curve,roc_auc_score\n",
    "import matplotlib.pyplot as plt\n",
    "\n",
    "#Plot the f1 score and accuracy\n",
    "f1_scores=[rf_best_score, nb_best_score, ada_best_score]\n",
    "accuracies=[accuracy_score(y_test,y_pred_rf),accuracy_score(y_test,y_pred_nb),accuracy_score(y_test,y_pred_ada)]\n",
    "\n",
    "\n",
    "plt.figure(figsize=(10,5))\n",
    "plt.subplot(1,2,1)\n",
    "plt.bar(['Random Forest','Naive Bayes','AdaBoost'],f1_scores)\n",
    "plt.ylim(0.4, 0.6) \n",
    "plt.title(\"F1 Score\")\n",
    "plt.subplot(1,2,2)\n",
    "plt.bar(['Random Forest','Naive Bayes','AdaBoost'],accuracies)\n",
    "plt.ylim(0.3, 1) \n",
    "plt.title(\"Accuracy\")\n",
    "plt.show()\n",
    "\n"
   ],
   "id": "8cba0202a34b18ad",
   "outputs": [
    {
     "data": {
      "text/plain": [
       "<Figure size 1000x500 with 2 Axes>"
      ],
      "image/png": "[encoded data removed]"
     },
     "metadata": {},
     "output_type": "display_data"
    }
   ],
   "execution_count": 33
  },
  {
   "metadata": {},
   "cell_type": "markdown",
   "source": "",
   "id": "ccce2d3b29673a06"
  },
  {
   "metadata": {
    "ExecuteTime": {
     "end_time": "2024-11-12T19:20:12.486598Z",
     "start_time": "2024-11-12T19:20:11.516274Z"
    }
   },
   "cell_type": "code",
   "source": [
    "#Plot the ROC curves\n",
    "# Retrieve the best models from each grid search\n",
    "best_rf = grid_search_rf.best_estimator_\n",
    "best_nb = grid_search_nb.best_estimator_\n",
    "best_ada = grid_search_ada.best_estimator_\n",
    "\n",
    "# Predict probabilities for the test set\n",
    "y_pred_rf = best_rf.predict_proba(X_test)\n",
    "y_pred_nb = best_nb.predict_proba(X_test)\n",
    "y_pred_ada = best_ada.predict_proba(X_test)\n",
    "\n",
    "# Compute ROC curves\n",
    "fpr_rf, tpr_rf, _ = roc_curve(y_test, y_pred_rf[:, 1])\n",
    "fpr_nb, tpr_nb, _ = roc_curve(y_test, y_pred_nb[:, 1])\n",
    "fpr_ada, tpr_ada, _ = roc_curve(y_test, y_pred_ada[:, 1])\n",
    "\n",
    "# Compute AUC scores\n",
    "auc_rf = roc_auc_score(y_test, y_pred_rf[:, 1])\n",
    "auc_nb = roc_auc_score(y_test, y_pred_nb[:, 1])\n",
    "auc_ada = roc_auc_score(y_test, y_pred_ada[:, 1])\n",
    "\n",
    "# Plot the ROC curves with AUC values\n",
    "plt.figure(figsize=(10, 5))\n",
    "plt.plot(fpr_rf, tpr_rf, label=f\"Random Forest (AUC = {auc_rf:.2f})\")\n",
    "plt.plot(fpr_nb, tpr_nb, label=f\"Naive Bayes (AUC = {auc_nb:.2f})\")\n",
    "plt.plot(fpr_ada, tpr_ada, label=f\"AdaBoost (AUC = {auc_ada:.2f})\")\n",
    "plt.xlabel(\"False Positive Rate\")\n",
    "plt.ylabel(\"True Positive Rate\")\n",
    "plt.title(\"ROC Curve with AUC Values\")\n",
    "plt.legend()\n",
    "plt.show()\n"
   ],
   "id": "ed2294e20cd5233d",
   "outputs": [
    {
     "data": {
      "text/plain": [
       "<Figure size 1000x500 with 1 Axes>"
      ],
      "image/png": "[encoded data removed]"
     },
     "metadata": {},
     "output_type": "display_data"
    }
   ],
   "execution_count": 34
  },
  {
   "metadata": {},
   "cell_type": "markdown",
   "source": "### Now we will plot the time needed to train the models comparing AdaBoost with the best hyperparameters and Random Forest, Naive Bayes and svc.",
   "id": "9758c29d51459b04"
  },
  {
   "metadata": {
    "ExecuteTime": {
     "end_time": "2024-11-12T20:07:21.193904Z",
     "start_time": "2024-11-12T19:20:12.556118Z"
    }
   },
   "cell_type": "code",
   "source": [
    "import time\n",
    "\n",
    "#Train the models with the best hyperparameters\n",
    "ada=AdaBoostClassifier(**ada_best_params)\n",
    "rf=RandomForestClassifier(**rf_best_params)\n",
    "svc=SVC(probability=True, kernel='linear')\n",
    "nv=GaussianNB(**nb_best_params)\n",
    "\n",
    "\n",
    "\n",
    "\n",
    "start=time.time()\n",
    "ada.fit(X_train,y_train)\n",
    "end=time.time()\n",
    "ada_time=end-start\n",
    "\n",
    "start=time.time()\n",
    "rf.fit(X_train,y_train)\n",
    "end=time.time()\n",
    "rf_time=end-start\n",
    "\n",
    "start=time.time()\n",
    "svc.fit(X_train,y_train)\n",
    "end=time.time()\n",
    "svc_time=end-start\n",
    "\n",
    "start=time.time()\n",
    "nv.fit(X_train,y_train)\n",
    "end=time.time()\n",
    "nv_time=end-start\n",
    "\n",
    "times=[ada_time,rf_time,svc_time,nv_time]\n",
    "\n",
    "plt.bar(['AdaBoost','Random Forest','SVC','Naive Bayes'],times)\n",
    "plt.title(\"Training time (seconds)\")\n"
   ],
   "id": "539bc84da1fea0dd",
   "outputs": [
    {
     "data": {
      "text/plain": [
       "Text(0.5, 1.0, 'Training time (seconds)')"
      ]
     },
     "execution_count": 35,
     "metadata": {},
     "output_type": "execute_result"
    },
    {
     "data": {
      "text/plain": [
       "<Figure size 640x480 with 1 Axes>"
      ],
      "image/png": "[encoded data removed]"
     },
     "metadata": {},
     "output_type": "display_data"
    }
   ],
   "execution_count": 35
  },
  {
   "metadata": {
    "ExecuteTime": {
     "end_time": "2024-11-12T20:07:21.497215Z",
     "start_time": "2024-11-12T20:07:21.259817Z"
    }
   },
   "cell_type": "code",
   "source": [
    "# Store training times in a list\n",
    "times = [ada_time, rf_time, svc_time, nv_time]\n",
    "\n",
    "# Plot training times on a log scale\n",
    "plt.figure(figsize=(8, 5))\n",
    "plt.bar(['AdaBoost', 'Random Forest', 'SVC', 'Naive Bayes'], times)\n",
    "plt.yscale('log')  \n",
    "plt.xlabel(\"Model\")\n",
    "plt.ylabel(\"Training Time (seconds, log scale)\")\n",
    "plt.title(\"Training Time Comparison on Log Scale\")\n",
    "plt.show()"
   ],
   "id": "2851ef8283262ccc",
   "outputs": [
    {
     "data": {
      "text/plain": [
       "<Figure size 800x500 with 1 Axes>"
      ],
      "image/png": "[encoded data removed]"
     },
     "metadata": {},
     "output_type": "display_data"
    }
   ],
   "execution_count": 36
  },
  {
   "metadata": {},
   "cell_type": "markdown",
   "source": "### And finally, we will plot the time needed for a new prediction to be made by the models.",
   "id": "82e64d284399578e"
  },
  {
   "metadata": {
    "ExecuteTime": {
     "end_time": "2024-11-12T20:07:23.155866Z",
     "start_time": "2024-11-12T20:07:21.550201Z"
    }
   },
   "cell_type": "code",
   "source": [
    "# Time predictions for each model\n",
    "\n",
    "start = time.time()\n",
    "ada.predict(X_test)\n",
    "end = time.time()\n",
    "ada_pred_time = end - start\n",
    "\n",
    "start = time.time()\n",
    "rf.predict(X_test)\n",
    "end = time.time()\n",
    "rf_pred_time = end - start\n",
    "\n",
    "start = time.time()\n",
    "svc.predict(X_test)\n",
    "end = time.time()\n",
    "svc_pred_time = end - start\n",
    "\n",
    "start = time.time()\n",
    "nv.predict(X_test)\n",
    "end = time.time()\n",
    "nv_pred_time = end - start\n",
    "\n",
    "# Store prediction times in a list\n",
    "times = [ada_pred_time, rf_pred_time, svc_pred_time, nv_pred_time]\n",
    "\n",
    "# Plot prediction times on a log scale\n",
    "plt.figure(figsize=(8, 5))\n",
    "plt.bar(['AdaBoost', 'Random Forest', 'SVC', 'Naive Bayes'], times)\n",
    "plt.xlabel(\"Model\")\n",
    "plt.ylabel(\"Prediction Time (seconds)\")\n",
    "plt.title(\"Prediction Time Comparison on Log Scale\")\n",
    "plt.show()"
   ],
   "id": "3d9009568f6e2601",
   "outputs": [
    {
     "data": {
      "text/plain": [
       "<Figure size 800x500 with 1 Axes>"
      ],
      "image/png": "[encoded data removed]"
     },
     "metadata": {},
     "output_type": "display_data"
    }
   ],
   "execution_count": 37
  },
  {
   "metadata": {},
   "cell_type": "markdown",
   "source": [
    "# Conclusion\n",
    "\n",
    "Among the models evaluated, AdaBoost achieves the best results in terms of performance metrics, such as the F1 Score and Accuracy. This makes it a highly effective choice for prediction accuracy in this scenario.\n",
    "\n",
    "However, this improved performance comes at a cost. AdaBoost requires significant computational resources and time for:\n",
    "\n",
    "- Training - The time required to train AdaBoost is very high compared to models like Naive Bayes or Random Forest but not as high as SVC.\n",
    "- Hyperparameter Tuning - Finding the optimal hyperparameters for AdaBoost involves tuning not only its own parameters but also those of the underlying estimator it uses (e.g., decision trees). This makes the grid search process more complex and time-consuming.\n",
    "- Prediction - Prediction times are also considerably longer, though not as high as those for SVC.\n",
    "Although SVC exhibits even higher computational demands, AdaBoost strikes a better balance between performance and computational efficiency, ultimately achieving better results with somewhat lower resource demands than SVC."
   ],
   "id": "3242d6f6ecef828d"
  }
 ],
 "metadata": {
  "kernelspec": {
   "display_name": "Python 3",
   "language": "python",
   "name": "python3"
  },
  "language_info": {
   "codemirror_mode": {
    "name": "ipython",
    "version": 2
   },
   "file_extension": ".py",
   "mimetype": "text/x-python",
   "name": "python",
   "nbconvert_exporter": "python",
   "pygments_lexer": "ipython2",
   "version": "2.7.6"
  }
 },
 "nbformat": 4,
 "nbformat_minor": 5
}
